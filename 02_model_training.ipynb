# Model Training Notebook

This notebook trains a logistic regression model.